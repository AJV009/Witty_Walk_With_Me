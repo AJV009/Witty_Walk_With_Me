{
 "cells": [
  {
   "cell_type": "code",
   "execution_count": 63,
   "metadata": {},
   "outputs": [
    {
     "name": "stdout",
     "output_type": "stream",
     "text": [
      "rec WARN alsa: can't encode 0-bit Unknown or not applicable\n",
      "\n",
      "Input File     : 'default' (alsa)\n",
      "Channels       : 2\n",
      "Sample Rate    : 48000\n",
      "Precision      : 16-bit\n",
      "Sample Encoding: 16-bit Signed Integer PCM\n",
      "\n",
      "In:0.00% 00:00:03.93 [00:00:00.00] Out:184k  [     =|=     ] Hd:2.1 Clip:0    \n",
      "Aborted.\n"
     ]
    }
   ],
   "source": [
    "!echo 'xeon' | timeout 4 rec temp.wav"
   ]
  },
  {
   "cell_type": "code",
   "execution_count": 64,
   "metadata": {},
   "outputs": [
    {
     "name": "stdout",
     "output_type": "stream",
     "text": [
      "my heart is painting 0.9991 call\n"
     ]
    }
   ],
   "source": [
    "from wit import Wit\n",
    "access_token = \"RSALNWFVPVJYMSGFMWCCSC4V6FBF6WHX\"\n",
    "client = Wit(access_token)\n",
    "resp = None\n",
    "with open('temp.wav', 'rb') as f:\n",
    "  resp = client.speech(f, {'Content-Type': 'audio/wav'})\n",
    "\n",
    "text = resp['text']\n",
    "trait_confidence = resp['traits']['help'][0]['confidence']\n",
    "trait_value = resp['traits']['help'][0]['value']\n",
    "\n",
    "from twilio.rest import Client\n",
    "account_sid = \"AC6f3d7bb6e9d7c4be123d67344e5ebd20\"\n",
    "auth_token  = \"9b23511a9556fc9a762fbb98e9b0688a\"\n",
    "T_MSG = \"Hi, you have a emergency msg '\"+text+\"!' from your dear!\"\n",
    "client = Client(account_sid, auth_token)\n",
    "call = client.calls.create(twiml=response, to=\"+918237842347\", from_=\"+12245076842\",)\n",
    "\n",
    "if trait_value=='call' and trait_confidence>=0.75:\n",
    "    message = client.messages.create( to=\"+918237842347\", from_=\"+12245076842\", body=T_MSG)"
   ]
  }
 ],
 "metadata": {
  "kernelspec": {
   "display_name": "Python 3",
   "language": "python",
   "name": "python3"
  },
  "language_info": {
   "codemirror_mode": {
    "name": "ipython",
    "version": 3
   },
   "file_extension": ".py",
   "mimetype": "text/x-python",
   "name": "python",
   "nbconvert_exporter": "python",
   "pygments_lexer": "ipython3",
   "version": "3.6.9"
  }
 },
 "nbformat": 4,
 "nbformat_minor": 4
}
