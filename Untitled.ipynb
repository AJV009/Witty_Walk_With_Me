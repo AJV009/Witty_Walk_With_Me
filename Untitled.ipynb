{
 "cells": [
  {
   "cell_type": "code",
   "execution_count": 7,
   "metadata": {},
   "outputs": [],
   "source": [
    "from wit import Wit\n",
    "access_token = \"XQLSDYLGKVIRO3JTG2IHFBIB2DENAV5F\"\n",
    "client = Wit(access_token)\n",
    "resp = client.message('set temperature to 1000 degrees')"
   ]
  },
  {
   "cell_type": "code",
   "execution_count": 8,
   "metadata": {},
   "outputs": [
    {
     "data": {
      "text/plain": [
       "{'text': 'set temperature to 1000 degrees',\n",
       " 'intents': [{'id': '1657427951075275',\n",
       "   'name': 'temperature_set',\n",
       "   'confidence': 0.9683}],\n",
       " 'entities': {'wit$temperature:temperature': [{'id': '1188835884798367',\n",
       "    'name': 'wit$temperature',\n",
       "    'role': 'temperature',\n",
       "    'start': 19,\n",
       "    'end': 31,\n",
       "    'body': '1000 degrees',\n",
       "    'confidence': 0.8688,\n",
       "    'entities': [],\n",
       "    'unit': 'degree',\n",
       "    'type': 'value',\n",
       "    'value': 1000}]},\n",
       " 'traits': {}}"
      ]
     },
     "execution_count": 8,
     "metadata": {},
     "output_type": "execute_result"
    }
   ],
   "source": [
    "resp"
   ]
  },
  {
   "cell_type": "code",
   "execution_count": 13,
   "metadata": {},
   "outputs": [
    {
     "name": "stdout",
     "output_type": "stream",
     "text": [
      "Yay, got Wit.ai response: {'entities': {}, 'intents': [{'confidence': 0.9683, 'id': '586010028991120', 'name': 'temperature_get'}], 'text': \"what's the temperature\", 'traits': {}}\n"
     ]
    }
   ],
   "source": [
    "resp = None\n",
    "with open('get.wav', 'rb') as f:\n",
    "  resp = client.speech(f, {'Content-Type': 'audio/wav'})\n",
    "print('Yay, got Wit.ai response: ' + str(resp))"
   ]
  },
  {
   "cell_type": "code",
   "execution_count": null,
   "metadata": {},
   "outputs": [],
   "source": []
  }
 ],
 "metadata": {
  "kernelspec": {
   "display_name": "datacamp",
   "language": "python",
   "name": "datacamp"
  },
  "language_info": {
   "codemirror_mode": {
    "name": "ipython",
    "version": 3
   },
   "file_extension": ".py",
   "mimetype": "text/x-python",
   "name": "python",
   "nbconvert_exporter": "python",
   "pygments_lexer": "ipython3",
   "version": "3.6.10"
  }
 },
 "nbformat": 4,
 "nbformat_minor": 4
}
